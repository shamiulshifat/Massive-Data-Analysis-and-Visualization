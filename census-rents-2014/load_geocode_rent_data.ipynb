{
 "cells": [
  {
   "cell_type": "markdown",
   "metadata": {},
   "source": [
    "# Load and Geocode Census Rent Data\n",
    "\n",
    "\n",
    "\n",
    "First load the ACS 2014 1-year median contract rent data, available for download from the Census Bureau's American FactFinder web site. Then parse principle city/state from each metropolitan and micropolitan area name. Then geocode the principle city/state to latitude-longitude. Finally, save to CSV."
   ]
  },
  {
   "cell_type": "code",
   "execution_count": 1,
   "metadata": {},
   "outputs": [],
   "source": [
    "import pandas as pd, time, requests, json"
   ]
  },
  {
   "cell_type": "code",
   "execution_count": 2,
   "metadata": {},
   "outputs": [
    {
     "data": {
      "text/html": [
       "<div>\n",
       "<table border=\"1\" class=\"dataframe\">\n",
       "  <thead>\n",
       "    <tr style=\"text-align: right;\">\n",
       "      <th></th>\n",
       "      <th>geo_id</th>\n",
       "      <th>geo_id2</th>\n",
       "      <th>msa_name</th>\n",
       "      <th>median_contract_rent</th>\n",
       "      <th>margin_error</th>\n",
       "    </tr>\n",
       "  </thead>\n",
       "  <tbody>\n",
       "    <tr>\n",
       "      <th>0</th>\n",
       "      <td>310M200US10140</td>\n",
       "      <td>10140</td>\n",
       "      <td>Aberdeen, WA Micro Area</td>\n",
       "      <td>626</td>\n",
       "      <td>36</td>\n",
       "    </tr>\n",
       "    <tr>\n",
       "      <th>1</th>\n",
       "      <td>310M200US10180</td>\n",
       "      <td>10180</td>\n",
       "      <td>Abilene, TX Metro Area</td>\n",
       "      <td>613</td>\n",
       "      <td>32</td>\n",
       "    </tr>\n",
       "    <tr>\n",
       "      <th>2</th>\n",
       "      <td>310M200US10300</td>\n",
       "      <td>10300</td>\n",
       "      <td>Adrian, MI Micro Area</td>\n",
       "      <td>556</td>\n",
       "      <td>23</td>\n",
       "    </tr>\n",
       "    <tr>\n",
       "      <th>3</th>\n",
       "      <td>310M200US10420</td>\n",
       "      <td>10420</td>\n",
       "      <td>Akron, OH Metro Area</td>\n",
       "      <td>627</td>\n",
       "      <td>13</td>\n",
       "    </tr>\n",
       "    <tr>\n",
       "      <th>4</th>\n",
       "      <td>310M200US10460</td>\n",
       "      <td>10460</td>\n",
       "      <td>Alamogordo, NM Micro Area</td>\n",
       "      <td>700</td>\n",
       "      <td>135</td>\n",
       "    </tr>\n",
       "  </tbody>\n",
       "</table>\n",
       "</div>"
      ],
      "text/plain": [
       "           geo_id  geo_id2                   msa_name  median_contract_rent  \\\n",
       "0  310M200US10140    10140    Aberdeen, WA Micro Area                   626   \n",
       "1  310M200US10180    10180     Abilene, TX Metro Area                   613   \n",
       "2  310M200US10300    10300      Adrian, MI Micro Area                   556   \n",
       "3  310M200US10420    10420       Akron, OH Metro Area                   627   \n",
       "4  310M200US10460    10460  Alamogordo, NM Micro Area                   700   \n",
       "\n",
       "   margin_error  \n",
       "0            36  \n",
       "1            32  \n",
       "2            23  \n",
       "3            13  \n",
       "4           135  "
      ]
     },
     "execution_count": 2,
     "metadata": {},
     "output_type": "execute_result"
    }
   ],
   "source": [
    "# load the ACS rent data and rename the columns to something more intuitive\n",
    "df = pd.read_csv('data/ACS_14_1YR_B25058_metro_micro/ACS_14_1YR_B25058.csv')\n",
    "df = df.rename(columns={'GEO.id':'geo_id', \n",
    "                        'GEO.id2':'geo_id2', \n",
    "                        'GEO.display-label':'msa_name', \n",
    "                        'HD01_VD01':'median_contract_rent',\n",
    "                        'HD02_VD01':'margin_error'})\n",
    "df.head()"
   ]
  },
  {
   "cell_type": "code",
   "execution_count": 3,
   "metadata": {},
   "outputs": [
    {
     "data": {
      "text/html": [
       "<div>\n",
       "<table border=\"1\" class=\"dataframe\">\n",
       "  <thead>\n",
       "    <tr style=\"text-align: right;\">\n",
       "      <th></th>\n",
       "      <th>geo_id</th>\n",
       "      <th>geo_id2</th>\n",
       "      <th>msa_name</th>\n",
       "      <th>median_contract_rent</th>\n",
       "      <th>margin_error</th>\n",
       "      <th>city_state</th>\n",
       "    </tr>\n",
       "  </thead>\n",
       "  <tbody>\n",
       "    <tr>\n",
       "      <th>0</th>\n",
       "      <td>310M200US10140</td>\n",
       "      <td>10140</td>\n",
       "      <td>Aberdeen, WA Micro Area</td>\n",
       "      <td>626</td>\n",
       "      <td>36</td>\n",
       "      <td>Aberdeen, WA</td>\n",
       "    </tr>\n",
       "    <tr>\n",
       "      <th>1</th>\n",
       "      <td>310M200US10180</td>\n",
       "      <td>10180</td>\n",
       "      <td>Abilene, TX Metro Area</td>\n",
       "      <td>613</td>\n",
       "      <td>32</td>\n",
       "      <td>Abilene, TX</td>\n",
       "    </tr>\n",
       "    <tr>\n",
       "      <th>2</th>\n",
       "      <td>310M200US10300</td>\n",
       "      <td>10300</td>\n",
       "      <td>Adrian, MI Micro Area</td>\n",
       "      <td>556</td>\n",
       "      <td>23</td>\n",
       "      <td>Adrian, MI</td>\n",
       "    </tr>\n",
       "    <tr>\n",
       "      <th>3</th>\n",
       "      <td>310M200US10420</td>\n",
       "      <td>10420</td>\n",
       "      <td>Akron, OH Metro Area</td>\n",
       "      <td>627</td>\n",
       "      <td>13</td>\n",
       "      <td>Akron, OH</td>\n",
       "    </tr>\n",
       "    <tr>\n",
       "      <th>4</th>\n",
       "      <td>310M200US10460</td>\n",
       "      <td>10460</td>\n",
       "      <td>Alamogordo, NM Micro Area</td>\n",
       "      <td>700</td>\n",
       "      <td>135</td>\n",
       "      <td>Alamogordo, NM</td>\n",
       "    </tr>\n",
       "  </tbody>\n",
       "</table>\n",
       "</div>"
      ],
      "text/plain": [
       "           geo_id  geo_id2                   msa_name  median_contract_rent  \\\n",
       "0  310M200US10140    10140    Aberdeen, WA Micro Area                   626   \n",
       "1  310M200US10180    10180     Abilene, TX Metro Area                   613   \n",
       "2  310M200US10300    10300      Adrian, MI Micro Area                   556   \n",
       "3  310M200US10420    10420       Akron, OH Metro Area                   627   \n",
       "4  310M200US10460    10460  Alamogordo, NM Micro Area                   700   \n",
       "\n",
       "   margin_error      city_state  \n",
       "0            36    Aberdeen, WA  \n",
       "1            32     Abilene, TX  \n",
       "2            23      Adrian, MI  \n",
       "3            13       Akron, OH  \n",
       "4           135  Alamogordo, NM  "
      ]
     },
     "execution_count": 3,
     "metadata": {},
     "output_type": "execute_result"
    }
   ],
   "source": [
    "# parse principle city/state from MSA name - mostly consistent except for louisville and honolulu\n",
    "def parse_city_state(msa_name):\n",
    "    #first get the city name\n",
    "    city_name = msa_name.split(',')[0]\n",
    "    city_name = city_name.split('-')[0]\n",
    "    city_name = city_name.split('/')[0] #Louisville/Jefferson County, KY\n",
    "    city_name = city_name.replace('Urban ', '') #Urban Honolulu\n",
    "    \n",
    "    #now get the state name\n",
    "    state_name = msa_name.split(',')[1]\n",
    "    state_name = state_name.strip().split(' ')[0]\n",
    "    state_name = state_name.split('-')[0]\n",
    "    \n",
    "    city_state = '{}, {}'.format(city_name, state_name)\n",
    "    return city_state\n",
    "\n",
    "df['city_state'] = df['msa_name'].map(parse_city_state)\n",
    "df.head()"
   ]
  },
  {
   "cell_type": "code",
   "execution_count": 4,
   "metadata": {
    "collapsed": true
   },
   "outputs": [],
   "source": [
    "# geocode each city/state to lat/long for mapping\n",
    "def geocode(row):\n",
    "    pause = 0.5 #pause 0.5 sec between requests\n",
    "    address = row['city_state']\n",
    "    print(row.name, end=' ')\n",
    "    \n",
    "    time.sleep(pause) #pause for some duration before each request, to not hammer their server\n",
    "    url = 'http://maps.googleapis.com/maps/api/geocode/json?address={}&sensor=false' #api url with placeholders\n",
    "    request = url.format(address) #fill in the placeholder with a variable\n",
    "    response = requests.get(request) #send the request to the server and get the response\n",
    "    data = json.loads(response.text) #convert the response json string into a dict\n",
    "    \n",
    "    if len(data['results']) > 0: #if google was able to geolocate our address, extract lat-long from result\n",
    "        latitude = data['results'][0]['geometry']['location']['lat']\n",
    "        longitude = data['results'][0]['geometry']['location']['lng']\n",
    "        return pd.Series({'latitude':latitude, 'longitude':longitude})\n",
    "    else:\n",
    "        print(data) #if we didn't get any results back, what did the response say?"
   ]
  },
  {
   "cell_type": "code",
   "execution_count": 5,
   "metadata": {
    "scrolled": true
   },
   "outputs": [
    {
     "name": "stdout",
     "output_type": "stream",
     "text": [
      "0 0 1 2 3 4 5 6 7 8 9 10 11 12 13 14 15 16 17 18 19 20 21 22 23 24 25 26 27 28 29 30 31 32 33 34 35 36 37 38 39 40 41 42 43 44 45 46 47 48 49 50 51 52 53 54 55 56 57 58 59 60 61 62 63 64 65 66 67 68 69 70 71 72 73 74 75 76 77 78 79 80 81 82 83 84 85 86 87 88 89 90 91 92 93 94 95 96 97 98 99 100 101 102 103 104 105 106 107 108 109 110 111 112 113 114 115 116 117 118 119 120 121 122 123 124 125 126 127 128 129 130 131 132 133 134 135 136 137 138 139 140 141 142 143 144 145 146 147 148 149 150 151 152 153 154 155 156 157 158 159 160 161 162 163 164 165 166 167 168 169 170 171 172 173 174 175 176 177 178 179 180 181 182 183 184 185 186 187 188 189 190 191 192 193 194 195 196 197 198 199 200 201 202 203 204 205 206 207 208 209 210 211 212 213 214 215 216 217 218 219 220 221 222 223 224 225 226 227 228 229 230 231 232 233 234 235 236 237 238 239 240 241 242 243 244 245 246 247 248 249 250 251 252 253 254 255 256 257 258 259 260 261 262 263 264 265 266 267 268 269 270 271 272 273 274 275 276 277 278 279 280 281 282 283 284 285 286 287 288 289 290 291 292 293 294 295 296 297 298 299 300 301 302 303 304 305 306 307 308 309 310 311 312 313 314 315 316 317 318 319 320 321 322 323 324 325 326 327 328 329 330 331 332 333 334 335 336 337 338 339 340 341 342 343 344 345 346 347 348 349 350 351 352 353 354 355 356 357 358 359 360 361 362 363 364 365 366 367 368 369 370 371 372 373 374 375 376 377 378 379 380 381 382 383 384 385 386 387 388 389 390 391 392 393 394 395 396 397 398 399 400 401 402 403 404 405 406 407 408 409 410 411 412 413 414 415 416 417 418 419 420 421 422 423 424 425 426 427 428 429 430 431 432 433 434 435 436 437 438 439 440 441 442 443 444 445 446 447 448 449 450 451 452 453 454 455 456 457 458 459 460 461 462 463 464 465 466 467 468 469 470 471 472 473 474 475 476 477 478 479 480 481 482 483 484 485 486 487 488 489 490 491 492 493 494 495 496 497 498 499 500 501 502 503 504 505 506 507 "
     ]
    },
    {
     "data": {
      "text/html": [
       "<div>\n",
       "<table border=\"1\" class=\"dataframe\">\n",
       "  <thead>\n",
       "    <tr style=\"text-align: right;\">\n",
       "      <th></th>\n",
       "      <th>geo_id</th>\n",
       "      <th>geo_id2</th>\n",
       "      <th>msa_name</th>\n",
       "      <th>median_contract_rent</th>\n",
       "      <th>margin_error</th>\n",
       "      <th>city_state</th>\n",
       "      <th>latitude</th>\n",
       "      <th>longitude</th>\n",
       "    </tr>\n",
       "  </thead>\n",
       "  <tbody>\n",
       "    <tr>\n",
       "      <th>0</th>\n",
       "      <td>310M200US10140</td>\n",
       "      <td>10140</td>\n",
       "      <td>Aberdeen, WA Micro Area</td>\n",
       "      <td>626</td>\n",
       "      <td>36</td>\n",
       "      <td>Aberdeen, WA</td>\n",
       "      <td>46.975371</td>\n",
       "      <td>-123.815722</td>\n",
       "    </tr>\n",
       "    <tr>\n",
       "      <th>1</th>\n",
       "      <td>310M200US10180</td>\n",
       "      <td>10180</td>\n",
       "      <td>Abilene, TX Metro Area</td>\n",
       "      <td>613</td>\n",
       "      <td>32</td>\n",
       "      <td>Abilene, TX</td>\n",
       "      <td>32.448736</td>\n",
       "      <td>-99.733144</td>\n",
       "    </tr>\n",
       "    <tr>\n",
       "      <th>2</th>\n",
       "      <td>310M200US10300</td>\n",
       "      <td>10300</td>\n",
       "      <td>Adrian, MI Micro Area</td>\n",
       "      <td>556</td>\n",
       "      <td>23</td>\n",
       "      <td>Adrian, MI</td>\n",
       "      <td>41.897547</td>\n",
       "      <td>-84.037166</td>\n",
       "    </tr>\n",
       "    <tr>\n",
       "      <th>3</th>\n",
       "      <td>310M200US10420</td>\n",
       "      <td>10420</td>\n",
       "      <td>Akron, OH Metro Area</td>\n",
       "      <td>627</td>\n",
       "      <td>13</td>\n",
       "      <td>Akron, OH</td>\n",
       "      <td>41.081445</td>\n",
       "      <td>-81.519005</td>\n",
       "    </tr>\n",
       "    <tr>\n",
       "      <th>4</th>\n",
       "      <td>310M200US10460</td>\n",
       "      <td>10460</td>\n",
       "      <td>Alamogordo, NM Micro Area</td>\n",
       "      <td>700</td>\n",
       "      <td>135</td>\n",
       "      <td>Alamogordo, NM</td>\n",
       "      <td>32.899532</td>\n",
       "      <td>-105.960265</td>\n",
       "    </tr>\n",
       "  </tbody>\n",
       "</table>\n",
       "</div>"
      ],
      "text/plain": [
       "           geo_id  geo_id2                   msa_name  median_contract_rent  \\\n",
       "0  310M200US10140    10140    Aberdeen, WA Micro Area                   626   \n",
       "1  310M200US10180    10180     Abilene, TX Metro Area                   613   \n",
       "2  310M200US10300    10300      Adrian, MI Micro Area                   556   \n",
       "3  310M200US10420    10420       Akron, OH Metro Area                   627   \n",
       "4  310M200US10460    10460  Alamogordo, NM Micro Area                   700   \n",
       "\n",
       "   margin_error      city_state   latitude   longitude  \n",
       "0            36    Aberdeen, WA  46.975371 -123.815722  \n",
       "1            32     Abilene, TX  32.448736  -99.733144  \n",
       "2            23      Adrian, MI  41.897547  -84.037166  \n",
       "3            13       Akron, OH  41.081445  -81.519005  \n",
       "4           135  Alamogordo, NM  32.899532 -105.960265  "
      ]
     },
     "execution_count": 5,
     "metadata": {},
     "output_type": "execute_result"
    }
   ],
   "source": [
    "# lat_long comes back as a df with 2 columns, so concatenate it to the original df when done\n",
    "lat_long = df.apply(geocode, axis=1)\n",
    "df = pd.concat([df, lat_long], axis=1)\n",
    "df.head()"
   ]
  },
  {
   "cell_type": "code",
   "execution_count": 6,
   "metadata": {
    "collapsed": true
   },
   "outputs": [],
   "source": [
    "# all done - save to csv\n",
    "df.to_csv('rent_latlong.csv', index=False)"
   ]
  },
  {
   "cell_type": "markdown",
   "metadata": {
    "collapsed": true
   },
   "source": []
  },
  {
   "cell_type": "code",
   "execution_count": null,
   "metadata": {},
   "outputs": [],
   "source": []
  }
 ],
 "metadata": {
  "kernelspec": {
   "display_name": "Python 3",
   "language": "python",
   "name": "python3"
  },
  "language_info": {
   "codemirror_mode": {
    "name": "ipython",
    "version": 3
   },
   "file_extension": ".py",
   "mimetype": "text/x-python",
   "name": "python",
   "nbconvert_exporter": "python",
   "pygments_lexer": "ipython3",
   "version": "3.7.6"
  }
 },
 "nbformat": 4,
 "nbformat_minor": 1
}
