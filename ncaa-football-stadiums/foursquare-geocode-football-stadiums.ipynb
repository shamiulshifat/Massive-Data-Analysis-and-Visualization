{
 "cells": [
  {
   "cell_type": "markdown",
   "metadata": {},
   "source": [
    "# Geocode football stadiums\n",
    "\n",
    "This notebook uses the Foursquare API to geocode locations based on stadium name + city/state. The dataset comprises all the NCAA Division I college football stadiums in the US (FBS and FCS) and comes from Wikipedia [here](https://en.wikipedia.org/wiki/List_of_NCAA_Division_I_FBS_football_stadiums) and [here](https://en.wikipedia.org/wiki/List_of_NCAA_Division_I_FCS_football_stadiums). The Foursquare API works well because it takes a query (stadium name) and searches for it near some city + state.\n",
    "\n",
    "\n",
    "  1. Register a new Foursquare API app under your account to get a client ID and client secret: https://foursquare.com/developers/apps\n",
    "  2. Create a file called keys.py in the same directory as these IPython notebooks\n",
    "  3. Edit your keys.py file and add two lines of code. The first should be client_id = 'your-id-here' and the second should be client_secret = 'your-secret-here'\n",
    "  4. Run the notebook\n",
    "  5. The geocoded data is visualized in [visualize-football-stadiums.ipynb](visualize-football-stadiums.ipynb)"
   ]
  },
  {
   "cell_type": "code",
   "execution_count": 1,
   "metadata": {
    "collapsed": true
   },
   "outputs": [],
   "source": [
    "import pandas as pd, re, time, requests, json\n",
    "from keys import client_id, client_secret"
   ]
  },
  {
   "cell_type": "code",
   "execution_count": 2,
   "metadata": {
    "collapsed": false
   },
   "outputs": [],
   "source": [
    "# load the data\n",
    "df_fbs = pd.read_csv('data/fbs-stadiums-original.csv', dtype=str, encoding='utf-8')\n",
    "df_fbs['div'] = 'fbs'\n",
    "df_fcs = pd.read_csv('data/fcs-stadiums-original.csv', dtype=str, encoding='utf-8')\n",
    "df_fcs['div'] = 'fcs'\n",
    "df = pd.concat([df_fbs, df_fcs], axis=0)"
   ]
  },
  {
   "cell_type": "markdown",
   "metadata": {},
   "source": [
    "## Clean up the data set"
   ]
  },
  {
   "cell_type": "code",
   "execution_count": 3,
   "metadata": {
    "collapsed": false
   },
   "outputs": [
    {
     "data": {
      "text/html": [
       "<div>\n",
       "<table border=\"1\" class=\"dataframe\">\n",
       "  <thead>\n",
       "    <tr style=\"text-align: right;\">\n",
       "      <th></th>\n",
       "      <th>stadium</th>\n",
       "      <th>city</th>\n",
       "      <th>state</th>\n",
       "      <th>team</th>\n",
       "      <th>conference</th>\n",
       "      <th>capacity</th>\n",
       "      <th>built</th>\n",
       "      <th>expanded</th>\n",
       "      <th>div</th>\n",
       "    </tr>\n",
       "  </thead>\n",
       "  <tbody>\n",
       "    <tr>\n",
       "      <th>0</th>\n",
       "      <td>Michigan Stadium</td>\n",
       "      <td>Ann Arbor</td>\n",
       "      <td>MI</td>\n",
       "      <td>Michigan</td>\n",
       "      <td>Big Ten</td>\n",
       "      <td>107,601[98]</td>\n",
       "      <td>1927</td>\n",
       "      <td>2015</td>\n",
       "      <td>fbs</td>\n",
       "    </tr>\n",
       "    <tr>\n",
       "      <th>1</th>\n",
       "      <td>Beaver Stadium</td>\n",
       "      <td>University Park</td>\n",
       "      <td>PA</td>\n",
       "      <td>Penn State</td>\n",
       "      <td>Big Ten</td>\n",
       "      <td>106,572[12]</td>\n",
       "      <td>1960</td>\n",
       "      <td>2001</td>\n",
       "      <td>fbs</td>\n",
       "    </tr>\n",
       "    <tr>\n",
       "      <th>2</th>\n",
       "      <td>Ohio Stadium</td>\n",
       "      <td>Columbus</td>\n",
       "      <td>OH</td>\n",
       "      <td>Ohio State</td>\n",
       "      <td>Big Ten</td>\n",
       "      <td>104,944[106]</td>\n",
       "      <td>1922[108]</td>\n",
       "      <td>2014[108]</td>\n",
       "      <td>fbs</td>\n",
       "    </tr>\n",
       "    <tr>\n",
       "      <th>3</th>\n",
       "      <td>Kyle Field</td>\n",
       "      <td>College Station</td>\n",
       "      <td>TX</td>\n",
       "      <td>Texas A&amp;M</td>\n",
       "      <td>SEC</td>\n",
       "      <td>102,733[76]</td>\n",
       "      <td>1927[76]</td>\n",
       "      <td>2015[76]</td>\n",
       "      <td>fbs</td>\n",
       "    </tr>\n",
       "    <tr>\n",
       "      <th>4</th>\n",
       "      <td>Neyland Stadium</td>\n",
       "      <td>Knoxville</td>\n",
       "      <td>TN</td>\n",
       "      <td>Tennessee</td>\n",
       "      <td>SEC</td>\n",
       "      <td>102,455[102]</td>\n",
       "      <td>1921[103]</td>\n",
       "      <td>2010[103]</td>\n",
       "      <td>fbs</td>\n",
       "    </tr>\n",
       "  </tbody>\n",
       "</table>\n",
       "</div>"
      ],
      "text/plain": [
       "            stadium             city state        team conference  \\\n",
       "0  Michigan Stadium        Ann Arbor    MI    Michigan    Big Ten   \n",
       "1    Beaver Stadium  University Park    PA  Penn State    Big Ten   \n",
       "2      Ohio Stadium         Columbus    OH  Ohio State    Big Ten   \n",
       "3        Kyle Field  College Station    TX   Texas A&M        SEC   \n",
       "4   Neyland Stadium        Knoxville    TN   Tennessee        SEC   \n",
       "\n",
       "       capacity      built   expanded  div  \n",
       "0   107,601[98]       1927       2015  fbs  \n",
       "1   106,572[12]       1960       2001  fbs  \n",
       "2  104,944[106]  1922[108]  2014[108]  fbs  \n",
       "3   102,733[76]   1927[76]   2015[76]  fbs  \n",
       "4  102,455[102]  1921[103]  2010[103]  fbs  "
      ]
     },
     "execution_count": 3,
     "metadata": {},
     "output_type": "execute_result"
    }
   ],
   "source": [
    "# fill nans in expanded col, drop rows with nan in team col, reset index, drop image and old index cols\n",
    "df['expanded'] = df['expanded'].fillna('')\n",
    "df = df.dropna(subset=['team'])\n",
    "df = df.reset_index()\n",
    "df = df.drop(['image', 'index'], axis=1)\n",
    "df.head()"
   ]
  },
  {
   "cell_type": "code",
   "execution_count": 4,
   "metadata": {
    "collapsed": false
   },
   "outputs": [
    {
     "data": {
      "text/html": [
       "<div>\n",
       "<table border=\"1\" class=\"dataframe\">\n",
       "  <thead>\n",
       "    <tr style=\"text-align: right;\">\n",
       "      <th></th>\n",
       "      <th>stadium</th>\n",
       "      <th>city</th>\n",
       "      <th>state</th>\n",
       "      <th>team</th>\n",
       "      <th>conference</th>\n",
       "      <th>capacity</th>\n",
       "      <th>built</th>\n",
       "      <th>expanded</th>\n",
       "      <th>div</th>\n",
       "    </tr>\n",
       "  </thead>\n",
       "  <tbody>\n",
       "    <tr>\n",
       "      <th>0</th>\n",
       "      <td>Michigan Stadium</td>\n",
       "      <td>Ann Arbor</td>\n",
       "      <td>MI</td>\n",
       "      <td>Michigan</td>\n",
       "      <td>Big Ten</td>\n",
       "      <td>107601</td>\n",
       "      <td>1927</td>\n",
       "      <td>2015</td>\n",
       "      <td>fbs</td>\n",
       "    </tr>\n",
       "    <tr>\n",
       "      <th>1</th>\n",
       "      <td>Beaver Stadium</td>\n",
       "      <td>University Park</td>\n",
       "      <td>PA</td>\n",
       "      <td>Penn State</td>\n",
       "      <td>Big Ten</td>\n",
       "      <td>106572</td>\n",
       "      <td>1960</td>\n",
       "      <td>2001</td>\n",
       "      <td>fbs</td>\n",
       "    </tr>\n",
       "    <tr>\n",
       "      <th>2</th>\n",
       "      <td>Ohio Stadium</td>\n",
       "      <td>Columbus</td>\n",
       "      <td>OH</td>\n",
       "      <td>Ohio State</td>\n",
       "      <td>Big Ten</td>\n",
       "      <td>104944</td>\n",
       "      <td>1922</td>\n",
       "      <td>2014</td>\n",
       "      <td>fbs</td>\n",
       "    </tr>\n",
       "    <tr>\n",
       "      <th>3</th>\n",
       "      <td>Kyle Field</td>\n",
       "      <td>College Station</td>\n",
       "      <td>TX</td>\n",
       "      <td>Texas A&amp;M</td>\n",
       "      <td>SEC</td>\n",
       "      <td>102733</td>\n",
       "      <td>1927</td>\n",
       "      <td>2015</td>\n",
       "      <td>fbs</td>\n",
       "    </tr>\n",
       "    <tr>\n",
       "      <th>4</th>\n",
       "      <td>Neyland Stadium</td>\n",
       "      <td>Knoxville</td>\n",
       "      <td>TN</td>\n",
       "      <td>Tennessee</td>\n",
       "      <td>SEC</td>\n",
       "      <td>102455</td>\n",
       "      <td>1921</td>\n",
       "      <td>2010</td>\n",
       "      <td>fbs</td>\n",
       "    </tr>\n",
       "  </tbody>\n",
       "</table>\n",
       "</div>"
      ],
      "text/plain": [
       "            stadium             city state        team conference  capacity  \\\n",
       "0  Michigan Stadium        Ann Arbor    MI    Michigan    Big Ten    107601   \n",
       "1    Beaver Stadium  University Park    PA  Penn State    Big Ten    106572   \n",
       "2      Ohio Stadium         Columbus    OH  Ohio State    Big Ten    104944   \n",
       "3        Kyle Field  College Station    TX   Texas A&M        SEC    102733   \n",
       "4   Neyland Stadium        Knoxville    TN   Tennessee        SEC    102455   \n",
       "\n",
       "   built expanded  div  \n",
       "0   1927     2015  fbs  \n",
       "1   1960     2001  fbs  \n",
       "2   1922     2014  fbs  \n",
       "3   1927     2015  fbs  \n",
       "4   1921     2010  fbs  "
      ]
     },
     "execution_count": 4,
     "metadata": {},
     "output_type": "execute_result"
    }
   ],
   "source": [
    "# remove pluses, commas, and any footnotes in square brackets\n",
    "regex = re.compile(u'\\\\+|,|\\\\[.*]')\n",
    "df = df.applymap(lambda x: regex.sub(u'', x))\n",
    "\n",
    "# now convert the cleaned-up columns to int\n",
    "df['capacity'] = df['capacity'].astype(int)\n",
    "df['built'] = df['built'].astype(int)\n",
    "df.head()"
   ]
  },
  {
   "cell_type": "markdown",
   "metadata": {},
   "source": [
    "## Geocode the data set to lat-long"
   ]
  },
  {
   "cell_type": "code",
   "execution_count": 5,
   "metadata": {
    "collapsed": false
   },
   "outputs": [],
   "source": [
    "# specify how many results to return and what api version to call\n",
    "limit = 1\n",
    "version = '20160105'"
   ]
  },
  {
   "cell_type": "code",
   "execution_count": 6,
   "metadata": {
    "collapsed": false
   },
   "outputs": [],
   "source": [
    "# function to geocode stadiums to lat/long with foursquare api\n",
    "def geocode(row):\n",
    "    if row.name % 10 == 0: print(row.name, end=' ')\n",
    "    if 'latlng' in row and pd.notnull(row['latlng']):\n",
    "        return row['latlng']\n",
    "    time.sleep(0.2)\n",
    "    url = u'https://api.foursquare.com/v2/venues/search?query={}&near={},{}&limit={}&v={}&client_id={}&client_secret={}'\n",
    "    request = url.format(row['stadium'], row['city'], row['state'], limit, version, client_id, client_secret)\n",
    "    response = requests.get(request)\n",
    "    data = json.loads(response.text)\n",
    "    if 'venues' in data['response'] and len(data['response']['venues']) > 0:\n",
    "        latitude = data['response']['venues'][0]['location']['lat']\n",
    "        longitude = data['response']['venues'][0]['location']['lng']\n",
    "        return '{},{}'.format(latitude, longitude)"
   ]
  },
  {
   "cell_type": "code",
   "execution_count": 7,
   "metadata": {
    "collapsed": false
   },
   "outputs": [
    {
     "name": "stdout",
     "output_type": "stream",
     "text": [
      "0 10 20 30 40 50 60 70 80 90 100 110 120 130 140 150 160 170 180 190 200 210 220 230 240 250 "
     ]
    }
   ],
   "source": [
    "df['latlng'] = df.apply(geocode, axis=1)"
   ]
  },
  {
   "cell_type": "code",
   "execution_count": 8,
   "metadata": {
    "collapsed": false
   },
   "outputs": [
    {
     "data": {
      "text/html": [
       "<div>\n",
       "<table border=\"1\" class=\"dataframe\">\n",
       "  <thead>\n",
       "    <tr style=\"text-align: right;\">\n",
       "      <th></th>\n",
       "      <th>stadium</th>\n",
       "      <th>city</th>\n",
       "      <th>state</th>\n",
       "      <th>team</th>\n",
       "      <th>conference</th>\n",
       "      <th>capacity</th>\n",
       "      <th>built</th>\n",
       "      <th>expanded</th>\n",
       "      <th>div</th>\n",
       "      <th>latitude</th>\n",
       "      <th>longitude</th>\n",
       "    </tr>\n",
       "  </thead>\n",
       "  <tbody>\n",
       "    <tr>\n",
       "      <th>0</th>\n",
       "      <td>Michigan Stadium</td>\n",
       "      <td>Ann Arbor</td>\n",
       "      <td>MI</td>\n",
       "      <td>Michigan</td>\n",
       "      <td>Big Ten</td>\n",
       "      <td>107601</td>\n",
       "      <td>1927</td>\n",
       "      <td>2015</td>\n",
       "      <td>fbs</td>\n",
       "      <td>42.26586873251738</td>\n",
       "      <td>-83.7487256526947</td>\n",
       "    </tr>\n",
       "    <tr>\n",
       "      <th>1</th>\n",
       "      <td>Beaver Stadium</td>\n",
       "      <td>University Park</td>\n",
       "      <td>PA</td>\n",
       "      <td>Penn State</td>\n",
       "      <td>Big Ten</td>\n",
       "      <td>106572</td>\n",
       "      <td>1960</td>\n",
       "      <td>2001</td>\n",
       "      <td>fbs</td>\n",
       "      <td>40.81215273275043</td>\n",
       "      <td>-77.85620212554932</td>\n",
       "    </tr>\n",
       "    <tr>\n",
       "      <th>2</th>\n",
       "      <td>Ohio Stadium</td>\n",
       "      <td>Columbus</td>\n",
       "      <td>OH</td>\n",
       "      <td>Ohio State</td>\n",
       "      <td>Big Ten</td>\n",
       "      <td>104944</td>\n",
       "      <td>1922</td>\n",
       "      <td>2014</td>\n",
       "      <td>fbs</td>\n",
       "      <td>40.0016856893694</td>\n",
       "      <td>-83.01972806453705</td>\n",
       "    </tr>\n",
       "    <tr>\n",
       "      <th>3</th>\n",
       "      <td>Kyle Field</td>\n",
       "      <td>College Station</td>\n",
       "      <td>TX</td>\n",
       "      <td>Texas A&amp;M</td>\n",
       "      <td>SEC</td>\n",
       "      <td>102733</td>\n",
       "      <td>1927</td>\n",
       "      <td>2015</td>\n",
       "      <td>fbs</td>\n",
       "      <td>30.61009757817476</td>\n",
       "      <td>-96.34072922859283</td>\n",
       "    </tr>\n",
       "    <tr>\n",
       "      <th>4</th>\n",
       "      <td>Neyland Stadium</td>\n",
       "      <td>Knoxville</td>\n",
       "      <td>TN</td>\n",
       "      <td>Tennessee</td>\n",
       "      <td>SEC</td>\n",
       "      <td>102455</td>\n",
       "      <td>1921</td>\n",
       "      <td>2010</td>\n",
       "      <td>fbs</td>\n",
       "      <td>35.95473437262258</td>\n",
       "      <td>-83.92533302307129</td>\n",
       "    </tr>\n",
       "  </tbody>\n",
       "</table>\n",
       "</div>"
      ],
      "text/plain": [
       "            stadium             city state        team conference  capacity  \\\n",
       "0  Michigan Stadium        Ann Arbor    MI    Michigan    Big Ten    107601   \n",
       "1    Beaver Stadium  University Park    PA  Penn State    Big Ten    106572   \n",
       "2      Ohio Stadium         Columbus    OH  Ohio State    Big Ten    104944   \n",
       "3        Kyle Field  College Station    TX   Texas A&M        SEC    102733   \n",
       "4   Neyland Stadium        Knoxville    TN   Tennessee        SEC    102455   \n",
       "\n",
       "   built expanded  div           latitude           longitude  \n",
       "0   1927     2015  fbs  42.26586873251738   -83.7487256526947  \n",
       "1   1960     2001  fbs  40.81215273275043  -77.85620212554932  \n",
       "2   1922     2014  fbs   40.0016856893694  -83.01972806453705  \n",
       "3   1927     2015  fbs  30.61009757817476  -96.34072922859283  \n",
       "4   1921     2010  fbs  35.95473437262258  -83.92533302307129  "
      ]
     },
     "execution_count": 8,
     "metadata": {},
     "output_type": "execute_result"
    }
   ],
   "source": [
    "# parse out individual lats and longs from the result\n",
    "df['latitude'] = df['latlng'].map(lambda x: x.split(',')[0] if isinstance(x, str) else None)\n",
    "df['longitude'] = df['latlng'].map(lambda x: x.split(',')[1] if isinstance(x, str) else None)\n",
    "df = df.drop(labels='latlng', axis=1)\n",
    "df.head()"
   ]
  },
  {
   "cell_type": "code",
   "execution_count": 9,
   "metadata": {
    "collapsed": true
   },
   "outputs": [],
   "source": [
    "# save to csv\n",
    "df.to_csv('data/stadiums-geocoded.csv', encoding='utf-8', index=False)"
   ]
  },
  {
   "cell_type": "code",
   "execution_count": null,
   "metadata": {
    "collapsed": true
   },
   "outputs": [],
   "source": []
  }
 ],
 "metadata": {
  "kernelspec": {
   "display_name": "Python 3",
   "language": "python",
   "name": "python3"
  },
  "language_info": {
   "codemirror_mode": {
    "name": "ipython",
    "version": 3
   },
   "file_extension": ".py",
   "mimetype": "text/x-python",
   "name": "python",
   "nbconvert_exporter": "python",
   "pygments_lexer": "ipython3",
   "version": "3.5.1"
  }
 },
 "nbformat": 4,
 "nbformat_minor": 0
}
